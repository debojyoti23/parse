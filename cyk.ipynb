{
 "cells": [
  {
   "cell_type": "code",
   "execution_count": 2,
   "metadata": {
    "collapsed": true
   },
   "outputs": [],
   "source": [
    "import re"
   ]
  },
  {
   "cell_type": "markdown",
   "metadata": {},
   "source": [
    "## Load Grammar"
   ]
  },
  {
   "cell_type": "code",
   "execution_count": 59,
   "metadata": {
    "collapsed": false
   },
   "outputs": [
    {
     "name": "stdout",
     "output_type": "stream",
     "text": [
      "Det\n",
      "['that', 'this', 'a']\n",
      "Noun\n",
      "['book', 'flight', 'meal', 'money']\n",
      "Verb\n",
      "['book', 'include', 'prefer']\n",
      "Pronoun\n",
      "['I', 'she', 'me']\n",
      "Proper_Noun\n",
      "['Houston', 'TWA']\n",
      "Aux\n",
      "['does']\n",
      "Preposition\n",
      "['from', 'to', 'on', 'near', 'through']\n",
      "S\n",
      "['NP', 'VP']\n",
      "S\n",
      "['Aux', 'NP', 'VP']\n",
      "S\n",
      "['VP']\n",
      "NP\n",
      "['Pronoun']\n",
      "NP\n",
      "['Proper_Noun']\n",
      "NP\n",
      "['Det', 'Nominal']\n",
      "Nominal\n",
      "['Noun']\n",
      "Nominal\n",
      "['Nominal', 'Noun']\n",
      "Nominal\n",
      "['Nominal', 'PP']\n",
      "VP\n",
      "['Verb']\n",
      "VP\n",
      "['Verb', 'NP']\n",
      "VP\n",
      "['Verb', 'NP', 'PP']\n",
      "VP\n",
      "['Verb', 'PP']\n",
      "VP\n",
      "['VP', 'PP']\n",
      "PP\n",
      "['Preposition', 'NP']\n"
     ]
    }
   ],
   "source": [
    "grammar_f = \"/home/debojyoti/nlp/assignment3/grammar1.txt\"\n",
    "lexicon_f = \"/home/debojyoti/nlp/assignment3/lexicon.txt\"\n",
    "pattern = re.compile(\"^(\\w+)\\s*->(.+)\")\n",
    "with open(lexicon_f) as lexicon:\n",
    "    for line in lexicon.readlines():\n",
    "        g_obj = pattern.match(line)\n",
    "        lhs = g_obj.group(1)\n",
    "        print lhs\n",
    "        rhs = g_obj.group(2).strip()\n",
    "        rhs = re.split('\\W+',rhs)\n",
    "        print rhs\n",
    "with open(grammar_f) as grammar:\n",
    "    for line in grammar.readlines():      \n",
    "        g_obj = pattern.match(line)\n",
    "        lhs = g_obj.group(1)\n",
    "        print lhs\n",
    "        rhs = g_obj.group(2).strip()\n",
    "        rhs = re.split('\\W+',rhs)\n",
    "        print rhs "
   ]
  }
 ],
 "metadata": {
  "kernelspec": {
   "display_name": "Python 2",
   "language": "python",
   "name": "python2"
  },
  "language_info": {
   "codemirror_mode": {
    "name": "ipython",
    "version": 2
   },
   "file_extension": ".py",
   "mimetype": "text/x-python",
   "name": "python",
   "nbconvert_exporter": "python",
   "pygments_lexer": "ipython2",
   "version": "2.7.6"
  }
 },
 "nbformat": 4,
 "nbformat_minor": 1
}
