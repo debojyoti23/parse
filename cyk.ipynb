{
 "cells": [
  {
   "cell_type": "code",
   "execution_count": 8,
   "metadata": {
    "collapsed": true
   },
   "outputs": [],
   "source": [
    "import re\n",
    "import numpy"
   ]
  },
  {
   "cell_type": "markdown",
   "metadata": {},
   "source": [
    "## Load Grammar"
   ]
  },
  {
   "cell_type": "code",
   "execution_count": 130,
   "metadata": {
    "collapsed": false
   },
   "outputs": [],
   "source": [
    "def load_grammar():\n",
    "    grammar_f = \"/home/debojyoti/nlp/assignment3/parse/grammar1.txt\"\n",
    "    lexicon_f = \"/home/debojyoti/nlp/assignment3/parse/lexicon.txt\"\n",
    "    pattern = re.compile(\"^(\\w+)\\s*->(.+)\")\n",
    "    terminal_rules = []\n",
    "    non_terminal_rules = []\n",
    "    nts = set([])\n",
    "    with open(lexicon_f) as lexicon:\n",
    "        for line in lexicon.readlines():\n",
    "            g_obj = pattern.match(line)\n",
    "            lhs = g_obj.group(1)\n",
    "            rhs = g_obj.group(2).strip()\n",
    "            rhs = re.split('\\W+',rhs)\n",
    "            terminal_rules.append(tuple([lhs]+rhs))\n",
    "    terminal_rules = numpy.array(terminal_rules)\n",
    "    with open(grammar_f) as grammar:\n",
    "        for line in grammar.readlines():      \n",
    "            g_obj = pattern.match(line)\n",
    "            lhs = g_obj.group(1)\n",
    "            rhs = g_obj.group(2).strip()\n",
    "            rhs = re.split('\\W+',rhs)\n",
    "            nts.update([lhs]+rhs)\n",
    "            non_terminal_rules.append(tuple([lhs]+rhs))\n",
    "    non_terminal_rules = numpy.array(non_terminal_rules)\n",
    "#     print terminal_rules\n",
    "#     print non_terminal_rules\n",
    "#     print nts\n",
    "    return non_terminal_rules,terminal_rules,nts"
   ]
  },
  {
   "cell_type": "markdown",
   "metadata": {},
   "source": [
    "## Remove Unit productions"
   ]
  },
  {
   "cell_type": "code",
   "execution_count": 135,
   "metadata": {
    "collapsed": false,
    "scrolled": true
   },
   "outputs": [
    {
     "name": "stdout",
     "output_type": "stream",
     "text": [
      "ORIGINAL:\n",
      "[('S', 'NP', 'VP') ('S', 'Aux', 'NP', 'VP') ('S', 'VP') ('NP', 'Pronoun')\n",
      " ('NP', 'Proper_Noun') ('NP', 'Det', 'Nominal') ('Nominal', 'Noun')\n",
      " ('Nominal', 'Nominal', 'Noun') ('Nominal', 'Nominal', 'PP') ('VP', 'Verb')\n",
      " ('VP', 'Verb', 'NP') ('VP', 'Verb', 'NP', 'PP') ('VP', 'Verb', 'PP')\n",
      " ('VP', 'VP', 'PP') ('PP', 'Preposition', 'NP')]\n",
      "ITERATION:\n",
      "[('S', 'NP', 'VP'), ('S', 'Aux', 'NP', 'VP'), ('S', 'Verb'), ('S', 'Verb', 'NP'), ('S', 'Verb', 'NP', 'PP'), ('S', 'Verb', 'PP'), ('S', 'VP', 'PP'), ('NP', 'I'), ('NP', 'she'), ('NP', 'me'), ('NP', 'Houston'), ('NP', 'TWA'), ('NP', 'Det', 'Nominal'), ('Nominal', 'book'), ('Nominal', 'flight'), ('Nominal', 'meal'), ('Nominal', 'money'), ('Nominal', 'Nominal', 'Noun'), ('Nominal', 'Nominal', 'PP'), ('VP', 'book'), ('VP', 'include'), ('VP', 'prefer'), ('VP', 'Verb', 'NP'), ('VP', 'Verb', 'NP', 'PP'), ('VP', 'Verb', 'PP'), ('VP', 'VP', 'PP'), ('PP', 'Preposition', 'NP')]\n",
      "ITERATION:\n",
      "[('S', 'NP', 'VP'), ('S', 'Aux', 'NP', 'VP'), ('S', 'book'), ('S', 'include'), ('S', 'prefer'), ('S', 'Verb', 'NP'), ('S', 'Verb', 'NP', 'PP'), ('S', 'Verb', 'PP'), ('S', 'VP', 'PP'), ('NP', 'I'), ('NP', 'she'), ('NP', 'me'), ('NP', 'Houston'), ('NP', 'TWA'), ('NP', 'Det', 'Nominal'), ('Nominal', 'book'), ('Nominal', 'flight'), ('Nominal', 'meal'), ('Nominal', 'money'), ('Nominal', 'Nominal', 'Noun'), ('Nominal', 'Nominal', 'PP'), ('VP', 'book'), ('VP', 'include'), ('VP', 'prefer'), ('VP', 'Verb', 'NP'), ('VP', 'Verb', 'NP', 'PP'), ('VP', 'Verb', 'PP'), ('VP', 'VP', 'PP'), ('PP', 'Preposition', 'NP')]\n"
     ]
    }
   ],
   "source": [
    "non_terminal_rules,terminal_rules,nts=load_grammar()\n",
    "print \"ORIGINAL:\"\n",
    "print non_terminal_rules\n",
    "while True:\n",
    "    flag = False\n",
    "    new_rules = []\n",
    "    for indx,rule in enumerate(non_terminal_rules):\n",
    "        if len(rule)>2:\n",
    "            new_rules.append(rule)\n",
    "        if len(rule)==2 and rule[1] not in nts: # A->a where a is terminal\n",
    "            new_rules.append(rule)\n",
    "            continue\n",
    "        if len(rule)==2:\n",
    "            flag = True\n",
    "            lhs = rule[0]\n",
    "            rhs = rule[1]\n",
    "            for r in non_terminal_rules:\n",
    "                if r[0]==rhs:\n",
    "                    new_rule = tuple([lhs]+list(r[1:]))\n",
    "                    new_rules.append(new_rule)\n",
    "            for r in terminal_rules:\n",
    "                if r[0]==rhs:\n",
    "                    for term in r[1:]:\n",
    "                        new_rule = tuple([lhs,term])\n",
    "                        new_rules.append(new_rule)\n",
    "    non_terminal_rules = new_rules\n",
    "    if flag == False:\n",
    "        break\n",
    "    print \"ITERATION:\"\n",
    "    print non_terminal_rules"
   ]
  },
  {
   "cell_type": "code",
   "execution_count": 119,
   "metadata": {
    "collapsed": false
   },
   "outputs": [
    {
     "data": {
      "text/plain": [
       "{1, 2, 4}"
      ]
     },
     "execution_count": 119,
     "metadata": {},
     "output_type": "execute_result"
    }
   ],
   "source": [
    "a=set([])\n",
    "a.update([1,2])\n",
    "a.update([2,4])\n",
    "a"
   ]
  }
 ],
 "metadata": {
  "kernelspec": {
   "display_name": "Python [default]",
   "language": "python",
   "name": "python2"
  },
  "language_info": {
   "codemirror_mode": {
    "name": "ipython",
    "version": 2
   },
   "file_extension": ".py",
   "mimetype": "text/x-python",
   "name": "python",
   "nbconvert_exporter": "python",
   "pygments_lexer": "ipython2",
   "version": "2.7.12"
  }
 },
 "nbformat": 4,
 "nbformat_minor": 1
}
